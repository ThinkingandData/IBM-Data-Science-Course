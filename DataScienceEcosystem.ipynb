{
 "cells": [
  {
   "cell_type": "markdown",
   "id": "c9e9405a-664a-44c1-ae34-43af7869602f",
   "metadata": {},
   "source": [
    "# Data Science Tools and Ecosystem"
   ]
  },
  {
   "cell_type": "markdown",
   "id": "766ff05a-0a86-4fcd-87fb-48d60f10a36d",
   "metadata": {
    "tags": []
   },
   "source": [
    "# In this notebook, Data Science Tools and Ecosystem are summarized.\n"
   ]
  },
  {
   "cell_type": "markdown",
   "id": "967cca70-a6fd-4d43-b4a3-d5f10bdcc7bd",
   "metadata": {
    "tags": []
   },
   "source": [
    "### **Objectives:**\n",
    "*  List popular languages for Data Science\n",
    "*  Know which libraries to access machine learning\n",
    "*  Learning different platforms to develop on\n",
    "*  Know the history of the data science field"
   ]
  },
  {
   "cell_type": "markdown",
   "id": "9a4ff6d1-80c5-407c-9e5e-3e59a1b5b084",
   "metadata": {},
   "source": [
    "# Some of the popular languages that Data Scientists use are:\n",
    "1. Python \n",
    "2. R\n",
    "3. JavaScript"
   ]
  },
  {
   "cell_type": "markdown",
   "id": "08de5915-7f40-4413-a739-3814cd057522",
   "metadata": {},
   "source": [
    "# Some of the commonly used libraries used by Data Scientists include:\n",
    "\n",
    "1. Pandas\n",
    "2. Numpy\n",
    "3. Matplolib"
   ]
  },
  {
   "cell_type": "markdown",
   "id": "9c302630-a85b-45df-9705-13de51124161",
   "metadata": {},
   "source": [
    "|Data Science Tools|\n",
    "-------------------\n",
    "|Jupyter notebooks|\n",
    "|Apache Zeplin|\n",
    "|R Studio|\n",
    "|Spyder|"
   ]
  },
  {
   "cell_type": "markdown",
   "id": "656ba4b3-5519-44a5-a724-cddbab7b37ad",
   "metadata": {
    "tags": []
   },
   "source": [
    "### Below are a few examples of evaluating arithmetic expressions in Python"
   ]
  },
  {
   "cell_type": "code",
   "execution_count": 3,
   "id": "96c7ce8b-1872-41cd-9aa1-bb188c3499e2",
   "metadata": {
    "tags": []
   },
   "outputs": [
    {
     "data": {
      "text/plain": [
       "17"
      ]
     },
     "execution_count": 3,
     "metadata": {},
     "output_type": "execute_result"
    }
   ],
   "source": [
    "# This a simple arithmetic expression to mutiply then add integers\n",
    "(3*4)+5"
   ]
  },
  {
   "cell_type": "code",
   "execution_count": 6,
   "id": "231030a6-0f43-4ef8-beb1-b77d02d5445a",
   "metadata": {
    "tags": []
   },
   "outputs": [
    {
     "name": "stdout",
     "output_type": "stream",
     "text": [
      "3.3333333333333335 mins\n"
     ]
    }
   ],
   "source": [
    "# This will convert 200 minutes to hours by diving by 60\n",
    "Time_mins=200\n",
    "Time_hours=Time_mins/60\n",
    "print(str(Time_hours) + \" hours\")"
   ]
  },
  {
   "cell_type": "markdown",
   "id": "38dd14e6-7566-458e-9e6f-1798c9a85fdf",
   "metadata": {},
   "source": [
    "## Author\n",
    "Esosa Agbongiator"
   ]
  },
  {
   "cell_type": "code",
   "execution_count": null,
   "id": "507019a8-0cf3-4cd2-9ddb-2a482a0cf2cb",
   "metadata": {},
   "outputs": [],
   "source": []
  },
  {
   "cell_type": "code",
   "execution_count": null,
   "id": "1ed13de7-68c5-4d86-aad3-77a28c9d352e",
   "metadata": {},
   "outputs": [],
   "source": []
  },
  {
   "cell_type": "code",
   "execution_count": null,
   "id": "75bf1c4e-7d0e-4f3f-8b88-f6cd031afb06",
   "metadata": {},
   "outputs": [],
   "source": []
  },
  {
   "cell_type": "code",
   "execution_count": null,
   "id": "167b87d1-0bb5-4f3c-bccf-c11a9966da23",
   "metadata": {},
   "outputs": [],
   "source": []
  },
  {
   "cell_type": "code",
   "execution_count": null,
   "id": "f6853fb5-649c-496a-8243-6aef04709552",
   "metadata": {},
   "outputs": [],
   "source": []
  },
  {
   "cell_type": "code",
   "execution_count": null,
   "id": "d6e0bd7f-05cd-491f-ad3e-e46c5069bd6f",
   "metadata": {},
   "outputs": [],
   "source": []
  },
  {
   "cell_type": "code",
   "execution_count": null,
   "id": "323678b5-4f35-4430-87e4-65893b25cbca",
   "metadata": {},
   "outputs": [],
   "source": []
  },
  {
   "cell_type": "code",
   "execution_count": null,
   "id": "b72f351c-3b52-468f-b983-bdb4cafbae1a",
   "metadata": {},
   "outputs": [],
   "source": []
  }
 ],
 "metadata": {
  "kernelspec": {
   "display_name": "Python",
   "language": "python",
   "name": "conda-env-python-py"
  },
  "language_info": {
   "codemirror_mode": {
    "name": "ipython",
    "version": 3
   },
   "file_extension": ".py",
   "mimetype": "text/x-python",
   "name": "python",
   "nbconvert_exporter": "python",
   "pygments_lexer": "ipython3",
   "version": "3.7.12"
  }
 },
 "nbformat": 4,
 "nbformat_minor": 5
}
